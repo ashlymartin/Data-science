#Importing the required libraries
import pandas as pd
import numpy as np  
import matplotlib.pyplot as plt  
%matplotlib inline

#Reading data from remote link
url = "http://bit.ly/w-data"
fdata = pd.read_csv(url)
print("Data imported successfully")

fdata.head(10)

# Plotting the distribution of scores
fdata.plot(x='Hours', y='Scores', style='o')
plt.xlabel('Hours studied')
plt.ylabel('Percentage scored')
plt.title('Hours vs Percentage')
plt.show()

#Preparing data
x=fdata.iloc[:,:-1].values
y=fdata.iloc[:,1].values

from sklearn.model_selection import train_test_split
xtrain,xtest,ytrain,ytest=train_test_split(x,y,test_size=0.2,random_state=0)

#Training the algorithm
from sklearn.linear_model import LinearRegression
regressor=LinearRegression()
regressor.fit(xtrain,ytrain)
print('Training complete!')

#Plotting the regression line
line=regressor.coef_*x+regressor.intercept_
plt.scatter(x,y)
plt.plot(x,line);
plt.show()

#Making predictions
print(xtest)
ypred=regressor.predict(xtest)

#Comparing actual vs predicted data
df=pd.DataFrame({'Actual':ytest,'Predicted':ypred})
df

np.shape(df)

#Testing with random data
hours=9.25
own_pred = regressor.predict([[hours]])
print("No of Hours = {}".format(hours))
print("Predicted Score = {}".format(own_pred[0]))

#Evaluating the model
from sklearn import metrics  
print('Mean Absolute Error:', 
      metrics.mean_absolute_error(ytest, ypred))
